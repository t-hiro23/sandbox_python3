{
 "cells": [
  {
   "cell_type": "code",
   "execution_count": 30,
   "metadata": {},
   "outputs": [
    {
     "name": "stdout",
     "output_type": "stream",
     "text": [
      "['aaaa', 'bbbb', 'cccc']\n"
     ]
    }
   ],
   "source": [
    "hash_list = [\"aaaa\", \"bbbb\", \"cccc\"]\n",
    "print(hash_list)"
   ]
  },
  {
   "cell_type": "code",
   "execution_count": 32,
   "metadata": {},
   "outputs": [
    {
     "name": "stdout",
     "output_type": "stream",
     "text": [
      "['000_aaaa.patch']\n",
      "['000_aaaa.patch', '001_bbbb.patch']\n",
      "['000_aaaa.patch', '001_bbbb.patch', '002_cccc.patch']\n"
     ]
    }
   ],
   "source": [
    "patch_file_list = []\n",
    "for index_, hash_ in zip(range(len(hash_list)), hash_list):\n",
    "    patch_file_list += [(\"{0:03d}\".format(index_) + \"_\" + hash_ + \".patch\")]\n",
    "    #print(index_, \"{0:03d}\".format(index_) + \"_\" + hash_ + \".txt\")\n",
    "    print(patch_file_list)"
   ]
  },
  {
   "cell_type": "code",
   "execution_count": null,
   "metadata": {},
   "outputs": [],
   "source": []
  },
  {
   "cell_type": "code",
   "execution_count": null,
   "metadata": {},
   "outputs": [],
   "source": []
  }
 ],
 "metadata": {
  "kernelspec": {
   "display_name": "Python 3",
   "language": "python",
   "name": "python3"
  },
  "language_info": {
   "codemirror_mode": {
    "name": "ipython",
    "version": 3
   },
   "file_extension": ".py",
   "mimetype": "text/x-python",
   "name": "python",
   "nbconvert_exporter": "python",
   "pygments_lexer": "ipython3",
   "version": "3.6.4"
  }
 },
 "nbformat": 4,
 "nbformat_minor": 2
}
